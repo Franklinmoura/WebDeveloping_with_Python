{
 "cells": [
  {
   "cell_type": "code",
   "execution_count": 2,
   "id": "20dc1e0c",
   "metadata": {},
   "outputs": [],
   "source": [
    "import pandas as pd\n",
    "import pandera as pa # Utilizado para validar data"
   ]
  },
  {
   "cell_type": "code",
   "execution_count": 3,
   "id": "a5c773d7",
   "metadata": {},
   "outputs": [
    {
     "data": {
      "text/html": [
       "<div>\n",
       "<style scoped>\n",
       "    .dataframe tbody tr th:only-of-type {\n",
       "        vertical-align: middle;\n",
       "    }\n",
       "\n",
       "    .dataframe tbody tr th {\n",
       "        vertical-align: top;\n",
       "    }\n",
       "\n",
       "    .dataframe thead th {\n",
       "        text-align: right;\n",
       "    }\n",
       "</style>\n",
       "<table border=\"1\" class=\"dataframe\">\n",
       "  <thead>\n",
       "    <tr style=\"text-align: right;\">\n",
       "      <th></th>\n",
       "      <th>codigo_ocorrencia</th>\n",
       "      <th>codigo_ocorrencia2</th>\n",
       "      <th>ocorrencia_classificacao</th>\n",
       "      <th>ocorrencia_cidade</th>\n",
       "      <th>ocorrencia_uf</th>\n",
       "      <th>ocorrencia_aerodromo</th>\n",
       "      <th>ocorrencia_dia</th>\n",
       "      <th>ocorrencia_hora</th>\n",
       "      <th>total_recomendacoes</th>\n",
       "    </tr>\n",
       "  </thead>\n",
       "  <tbody>\n",
       "    <tr>\n",
       "      <th>0</th>\n",
       "      <td>52242</td>\n",
       "      <td>52242</td>\n",
       "      <td>INCIDENTE</td>\n",
       "      <td>PORTO ALEGRE</td>\n",
       "      <td>RS</td>\n",
       "      <td>SBPA</td>\n",
       "      <td>2012-01-05</td>\n",
       "      <td>20:27:00</td>\n",
       "      <td>0</td>\n",
       "    </tr>\n",
       "    <tr>\n",
       "      <th>1</th>\n",
       "      <td>45331</td>\n",
       "      <td>45331</td>\n",
       "      <td>ACIDENTE</td>\n",
       "      <td>GUARULHOS</td>\n",
       "      <td>SP</td>\n",
       "      <td>SBGR</td>\n",
       "      <td>2012-01-06</td>\n",
       "      <td>13:44:00</td>\n",
       "      <td>3</td>\n",
       "    </tr>\n",
       "    <tr>\n",
       "      <th>2</th>\n",
       "      <td>45333</td>\n",
       "      <td>45333</td>\n",
       "      <td>ACIDENTE</td>\n",
       "      <td>VIAMÃO</td>\n",
       "      <td>RS</td>\n",
       "      <td>****</td>\n",
       "      <td>2012-01-06</td>\n",
       "      <td>13:00:00</td>\n",
       "      <td>0</td>\n",
       "    </tr>\n",
       "    <tr>\n",
       "      <th>3</th>\n",
       "      <td>45401</td>\n",
       "      <td>45401</td>\n",
       "      <td>ACIDENTE</td>\n",
       "      <td>SÃO SEBASTIÃO</td>\n",
       "      <td>SP</td>\n",
       "      <td>****</td>\n",
       "      <td>2012-01-06</td>\n",
       "      <td>17:00:00</td>\n",
       "      <td>0</td>\n",
       "    </tr>\n",
       "    <tr>\n",
       "      <th>4</th>\n",
       "      <td>45407</td>\n",
       "      <td>45407</td>\n",
       "      <td>ACIDENTE</td>\n",
       "      <td>SÃO SEPÉ</td>\n",
       "      <td>RS</td>\n",
       "      <td>****</td>\n",
       "      <td>2012-01-06</td>\n",
       "      <td>16:30:00</td>\n",
       "      <td>0</td>\n",
       "    </tr>\n",
       "  </tbody>\n",
       "</table>\n",
       "</div>"
      ],
      "text/plain": [
       "   codigo_ocorrencia  codigo_ocorrencia2 ocorrencia_classificacao  \\\n",
       "0              52242               52242                INCIDENTE   \n",
       "1              45331               45331                 ACIDENTE   \n",
       "2              45333               45333                 ACIDENTE   \n",
       "3              45401               45401                 ACIDENTE   \n",
       "4              45407               45407                 ACIDENTE   \n",
       "\n",
       "  ocorrencia_cidade ocorrencia_uf ocorrencia_aerodromo ocorrencia_dia  \\\n",
       "0      PORTO ALEGRE            RS                 SBPA     2012-01-05   \n",
       "1         GUARULHOS            SP                 SBGR     2012-01-06   \n",
       "2            VIAMÃO            RS                 ****     2012-01-06   \n",
       "3     SÃO SEBASTIÃO            SP                 ****     2012-01-06   \n",
       "4          SÃO SEPÉ            RS                 ****     2012-01-06   \n",
       "\n",
       "  ocorrencia_hora  total_recomendacoes  \n",
       "0        20:27:00                    0  \n",
       "1        13:44:00                    3  \n",
       "2        13:00:00                    0  \n",
       "3        17:00:00                    0  \n",
       "4        16:30:00                    0  "
      ]
     },
     "execution_count": 3,
     "metadata": {},
     "output_type": "execute_result"
    }
   ],
   "source": [
    "## Converter os dodos data para data\n",
    "## ajustar a ordem da data: dayfirst=True\n",
    "df = pd.read_csv(\"ocorrencia.csv\", sep=\";\", parse_dates=['ocorrencia_dia'], dayfirst=True)\n",
    "#df # imprime todas as linhas\n",
    "df.head() # imprime as primerias 10 linhas\n",
    "\n",
    "## Codigo Nat - Sem informacao de data campo data\n",
    "## Codigo NaN - Campo vazio campo texto"
   ]
  },
  {
   "cell_type": "code",
   "execution_count": 4,
   "id": "28ec6dd3",
   "metadata": {},
   "outputs": [
    {
     "data": {
      "text/plain": [
       "'GUARULHOS'"
      ]
     },
     "execution_count": 4,
     "metadata": {},
     "output_type": "execute_result"
    }
   ],
   "source": [
    "df.loc[1, 'ocorrencia_cidade'] # linha um coluna ocorrencia_cidade"
   ]
  },
  {
   "cell_type": "code",
   "execution_count": 5,
   "id": "95b5238b",
   "metadata": {},
   "outputs": [
    {
     "data": {
      "text/plain": [
       "codigo_ocorrencia                         45401\n",
       "codigo_ocorrencia2                        45401\n",
       "ocorrencia_classificacao               ACIDENTE\n",
       "ocorrencia_cidade                 SÃO SEBASTIÃO\n",
       "ocorrencia_uf                                SP\n",
       "ocorrencia_aerodromo                       ****\n",
       "ocorrencia_dia              2012-01-06 00:00:00\n",
       "ocorrencia_hora                        17:00:00\n",
       "total_recomendacoes                           0\n",
       "Name: 3, dtype: object"
      ]
     },
     "execution_count": 5,
     "metadata": {},
     "output_type": "execute_result"
    }
   ],
   "source": [
    "df.loc[3] # Dados de toda a linha 3"
   ]
  },
  {
   "cell_type": "code",
   "execution_count": 6,
   "id": "9474754f",
   "metadata": {},
   "outputs": [
    {
     "data": {
      "text/html": [
       "<div>\n",
       "<style scoped>\n",
       "    .dataframe tbody tr th:only-of-type {\n",
       "        vertical-align: middle;\n",
       "    }\n",
       "\n",
       "    .dataframe tbody tr th {\n",
       "        vertical-align: top;\n",
       "    }\n",
       "\n",
       "    .dataframe thead th {\n",
       "        text-align: right;\n",
       "    }\n",
       "</style>\n",
       "<table border=\"1\" class=\"dataframe\">\n",
       "  <thead>\n",
       "    <tr style=\"text-align: right;\">\n",
       "      <th></th>\n",
       "      <th>codigo_ocorrencia</th>\n",
       "      <th>codigo_ocorrencia2</th>\n",
       "      <th>ocorrencia_classificacao</th>\n",
       "      <th>ocorrencia_cidade</th>\n",
       "      <th>ocorrencia_uf</th>\n",
       "      <th>ocorrencia_aerodromo</th>\n",
       "      <th>ocorrencia_dia</th>\n",
       "      <th>ocorrencia_hora</th>\n",
       "      <th>total_recomendacoes</th>\n",
       "    </tr>\n",
       "  </thead>\n",
       "  <tbody>\n",
       "    <tr>\n",
       "      <th>1</th>\n",
       "      <td>45331</td>\n",
       "      <td>45331</td>\n",
       "      <td>ACIDENTE</td>\n",
       "      <td>GUARULHOS</td>\n",
       "      <td>SP</td>\n",
       "      <td>SBGR</td>\n",
       "      <td>2012-01-06</td>\n",
       "      <td>13:44:00</td>\n",
       "      <td>3</td>\n",
       "    </tr>\n",
       "    <tr>\n",
       "      <th>2</th>\n",
       "      <td>45333</td>\n",
       "      <td>45333</td>\n",
       "      <td>ACIDENTE</td>\n",
       "      <td>VIAMÃO</td>\n",
       "      <td>RS</td>\n",
       "      <td>****</td>\n",
       "      <td>2012-01-06</td>\n",
       "      <td>13:00:00</td>\n",
       "      <td>0</td>\n",
       "    </tr>\n",
       "    <tr>\n",
       "      <th>3</th>\n",
       "      <td>45401</td>\n",
       "      <td>45401</td>\n",
       "      <td>ACIDENTE</td>\n",
       "      <td>SÃO SEBASTIÃO</td>\n",
       "      <td>SP</td>\n",
       "      <td>****</td>\n",
       "      <td>2012-01-06</td>\n",
       "      <td>17:00:00</td>\n",
       "      <td>0</td>\n",
       "    </tr>\n",
       "  </tbody>\n",
       "</table>\n",
       "</div>"
      ],
      "text/plain": [
       "   codigo_ocorrencia  codigo_ocorrencia2 ocorrencia_classificacao  \\\n",
       "1              45331               45331                 ACIDENTE   \n",
       "2              45333               45333                 ACIDENTE   \n",
       "3              45401               45401                 ACIDENTE   \n",
       "\n",
       "  ocorrencia_cidade ocorrencia_uf ocorrencia_aerodromo ocorrencia_dia  \\\n",
       "1         GUARULHOS            SP                 SBGR     2012-01-06   \n",
       "2            VIAMÃO            RS                 ****     2012-01-06   \n",
       "3     SÃO SEBASTIÃO            SP                 ****     2012-01-06   \n",
       "\n",
       "  ocorrencia_hora  total_recomendacoes  \n",
       "1        13:44:00                    3  \n",
       "2        13:00:00                    0  \n",
       "3        17:00:00                    0  "
      ]
     },
     "execution_count": 6,
     "metadata": {},
     "output_type": "execute_result"
    }
   ],
   "source": [
    "df.loc[1:3] # dados da linha 1 ate a 3 # label"
   ]
  },
  {
   "cell_type": "code",
   "execution_count": 7,
   "id": "7dcf1bbc",
   "metadata": {},
   "outputs": [
    {
     "data": {
      "text/html": [
       "<div>\n",
       "<style scoped>\n",
       "    .dataframe tbody tr th:only-of-type {\n",
       "        vertical-align: middle;\n",
       "    }\n",
       "\n",
       "    .dataframe tbody tr th {\n",
       "        vertical-align: top;\n",
       "    }\n",
       "\n",
       "    .dataframe thead th {\n",
       "        text-align: right;\n",
       "    }\n",
       "</style>\n",
       "<table border=\"1\" class=\"dataframe\">\n",
       "  <thead>\n",
       "    <tr style=\"text-align: right;\">\n",
       "      <th></th>\n",
       "      <th>codigo_ocorrencia</th>\n",
       "      <th>codigo_ocorrencia2</th>\n",
       "      <th>ocorrencia_classificacao</th>\n",
       "      <th>ocorrencia_cidade</th>\n",
       "      <th>ocorrencia_uf</th>\n",
       "      <th>ocorrencia_aerodromo</th>\n",
       "      <th>ocorrencia_dia</th>\n",
       "      <th>ocorrencia_hora</th>\n",
       "      <th>total_recomendacoes</th>\n",
       "    </tr>\n",
       "  </thead>\n",
       "  <tbody>\n",
       "    <tr>\n",
       "      <th>10</th>\n",
       "      <td>45332</td>\n",
       "      <td>45332</td>\n",
       "      <td>ACIDENTE</td>\n",
       "      <td>VIAMÃO</td>\n",
       "      <td>RS</td>\n",
       "      <td>****</td>\n",
       "      <td>2012-01-09</td>\n",
       "      <td>13:30:00</td>\n",
       "      <td>0</td>\n",
       "    </tr>\n",
       "    <tr>\n",
       "      <th>40</th>\n",
       "      <td>45415</td>\n",
       "      <td>45415</td>\n",
       "      <td>ACIDENTE</td>\n",
       "      <td>RIO DE JANEIRO</td>\n",
       "      <td>RJ</td>\n",
       "      <td>****</td>\n",
       "      <td>2012-01-30</td>\n",
       "      <td>13:55:00</td>\n",
       "      <td>0</td>\n",
       "    </tr>\n",
       "  </tbody>\n",
       "</table>\n",
       "</div>"
      ],
      "text/plain": [
       "    codigo_ocorrencia  codigo_ocorrencia2 ocorrencia_classificacao  \\\n",
       "10              45332               45332                 ACIDENTE   \n",
       "40              45415               45415                 ACIDENTE   \n",
       "\n",
       "   ocorrencia_cidade ocorrencia_uf ocorrencia_aerodromo ocorrencia_dia  \\\n",
       "10            VIAMÃO            RS                 ****     2012-01-09   \n",
       "40    RIO DE JANEIRO            RJ                 ****     2012-01-30   \n",
       "\n",
       "   ocorrencia_hora  total_recomendacoes  \n",
       "10        13:30:00                    0  \n",
       "40        13:55:00                    0  "
      ]
     },
     "execution_count": 7,
     "metadata": {},
     "output_type": "execute_result"
    }
   ],
   "source": [
    "df.loc[[10,40]] # informa a linha 10 e 40"
   ]
  },
  {
   "cell_type": "code",
   "execution_count": 9,
   "id": "6b8f8d23",
   "metadata": {},
   "outputs": [
    {
     "data": {
      "text/plain": [
       "0        PORTO ALEGRE\n",
       "1           GUARULHOS\n",
       "2              VIAMÃO\n",
       "3       SÃO SEBASTIÃO\n",
       "4            SÃO SEPÉ\n",
       "            ...      \n",
       "5162            JATAÍ\n",
       "5163          MARACAÍ\n",
       "5164    NOVO HAMBURGO\n",
       "5165         CURITIBA\n",
       "5166        PETROLINA\n",
       "Name: ocorrencia_cidade, Length: 5167, dtype: object"
      ]
     },
     "execution_count": 9,
     "metadata": {},
     "output_type": "execute_result"
    }
   ],
   "source": [
    "df.loc[:, 'ocorrencia_cidade'] # informa todas as cidades da coluna \"ocorrencia_cidade\""
   ]
  },
  {
   "cell_type": "code",
   "execution_count": 10,
   "id": "7ed11308",
   "metadata": {},
   "outputs": [
    {
     "data": {
      "text/plain": [
       "True"
      ]
     },
     "execution_count": 10,
     "metadata": {},
     "output_type": "execute_result"
    }
   ],
   "source": [
    "df.codigo_ocorrencia.is_unique # validando se o coluna \"Codigo ocorrencia\"tem valores unicos Pode ser utilizado para indice"
   ]
  },
  {
   "cell_type": "code",
   "execution_count": 11,
   "id": "bee23102",
   "metadata": {},
   "outputs": [
    {
     "ename": "SyntaxError",
     "evalue": "invalid syntax (1630926886.py, line 1)",
     "output_type": "error",
     "traceback": [
      "\u001b[0;36m  Input \u001b[0;32mIn [11]\u001b[0;36m\u001b[0m\n\u001b[0;31m    df.set_index['codigo_ocorrencia', inplace=True] #Indentificando coluna com valores unicos para utilizacao como indice\u001b[0m\n\u001b[0m                                             ^\u001b[0m\n\u001b[0;31mSyntaxError\u001b[0m\u001b[0;31m:\u001b[0m invalid syntax\n"
     ]
    }
   ],
   "source": [
    "df.set_index('codigo_ocorrencia', inplace=True) #Indentificando coluna com valores unicos para utilizacao como indice"
   ]
  },
  {
   "cell_type": "code",
   "execution_count": null,
   "id": "f9ff71be",
   "metadata": {},
   "outputs": [],
   "source": []
  }
 ],
 "metadata": {
  "kernelspec": {
   "display_name": "Python 3 (ipykernel)",
   "language": "python",
   "name": "python3"
  },
  "language_info": {
   "codemirror_mode": {
    "name": "ipython",
    "version": 3
   },
   "file_extension": ".py",
   "mimetype": "text/x-python",
   "name": "python",
   "nbconvert_exporter": "python",
   "pygments_lexer": "ipython3",
   "version": "3.8.11"
  }
 },
 "nbformat": 4,
 "nbformat_minor": 5
}
